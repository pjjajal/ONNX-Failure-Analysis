{
 "cells": [
  {
   "cell_type": "code",
   "execution_count": null,
   "metadata": {},
   "outputs": [],
   "source": [
    "import numpy as np\n",
    "import json\n",
    "import hashlib\n",
    "import pandas as pd"
   ]
  },
  {
   "attachments": {},
   "cell_type": "markdown",
   "metadata": {},
   "source": [
    "# TF"
   ]
  },
  {
   "cell_type": "code",
   "execution_count": null,
   "metadata": {},
   "outputs": [],
   "source": [
    "tf_results = pd.read_json(\"./tf2onnx_conv_results.json\")"
   ]
  },
  {
   "attachments": {},
   "cell_type": "markdown",
   "metadata": {},
   "source": [
    "## TF Incorrect Output"
   ]
  },
  {
   "cell_type": "code",
   "execution_count": null,
   "metadata": {},
   "outputs": [],
   "source": [
    "tf_results.loc[tf_results['max_abs_diff'] >= 1e-3].shape"
   ]
  },
  {
   "attachments": {},
   "cell_type": "markdown",
   "metadata": {},
   "source": [
    "## TF Conv. Error"
   ]
  },
  {
   "cell_type": "code",
   "execution_count": null,
   "metadata": {},
   "outputs": [],
   "source": [
    "conv_err_count = 0\n",
    "for i, row in tf_results.iterrows():\n",
    "    for filepaths in row['file_path']:\n",
    "        if (\"/tf2onnx\" in filepaths):\n",
    "            # print(row['error_tuples'])\n",
    "            conv_err_count += 1\n",
    "            # print(row['error_des'])\n",
    "conv_err_count"
   ]
  },
  {
   "attachments": {},
   "cell_type": "markdown",
   "metadata": {},
   "source": [
    "## TF ONNX RUNTIME"
   ]
  },
  {
   "cell_type": "code",
   "execution_count": null,
   "metadata": {},
   "outputs": [],
   "source": [
    "count = 0\n",
    "indices = []\n",
    "for i, row in tf_results.iterrows():\n",
    "    for filepaths in row['file_path']:\n",
    "        if (\"onnxruntime\" in filepaths):\n",
    "            # print(row['error_tuples'], row['error'])\n",
    "            indices.append(i)\n",
    "            count += 1\n",
    "            continue\n",
    "print(count)\n",
    "print(len(indices))"
   ]
  },
  {
   "attachments": {},
   "cell_type": "markdown",
   "metadata": {},
   "source": [
    "## TF Unsuccessful Conversion (HF)"
   ]
  },
  {
   "cell_type": "code",
   "execution_count": null,
   "metadata": {},
   "outputs": [],
   "source": [
    "tf_results.loc[tf_results['error'] == 1].shape[0] - conv_err_count"
   ]
  },
  {
   "attachments": {},
   "cell_type": "markdown",
   "metadata": {},
   "source": [
    "## TF Success"
   ]
  },
  {
   "cell_type": "code",
   "execution_count": null,
   "metadata": {},
   "outputs": [],
   "source": [
    "maybe_success = tf_results.loc[(tf_results['error'] == 0) & (tf_results['max_abs_diff'] < 1e-3)]\n",
    "maybe_success.drop(indices).shape"
   ]
  },
  {
   "cell_type": "code",
   "execution_count": null,
   "metadata": {},
   "outputs": [],
   "source": []
  },
  {
   "cell_type": "code",
   "execution_count": null,
   "metadata": {},
   "outputs": [],
   "source": [
    "tf_results.loc[(tf_results['error'] == 1)]"
   ]
  },
  {
   "cell_type": "code",
   "execution_count": null,
   "metadata": {},
   "outputs": [],
   "source": [
    "len(tf_results['model_type'].unique())"
   ]
  },
  {
   "cell_type": "code",
   "execution_count": null,
   "metadata": {},
   "outputs": [],
   "source": [
    "tf_results.loc[(tf_results['model_type'] == \"t5\")]['error'].value_counts()"
   ]
  },
  {
   "cell_type": "code",
   "execution_count": null,
   "metadata": {},
   "outputs": [],
   "source": [
    "x = tf_results.loc[(tf_results['model_type'] == \"t5\")]"
   ]
  },
  {
   "cell_type": "code",
   "execution_count": null,
   "metadata": {},
   "outputs": [],
   "source": [
    "count = 0\n",
    "ind = []\n",
    "for i, row in x.iterrows():\n",
    "    for filepaths in row['file_path']:\n",
    "        if (\"/tf2onnx\" in filepaths):\n",
    "            print(row['error_tuples'])\n",
    "            count += 1\n",
    "            ind.append(i)\n",
    "            continue\n",
    "            # print(row['error_des'])"
   ]
  },
  {
   "cell_type": "code",
   "execution_count": null,
   "metadata": {},
   "outputs": [],
   "source": [
    "y = x.drop(ind)"
   ]
  },
  {
   "cell_type": "code",
   "execution_count": null,
   "metadata": {},
   "outputs": [],
   "source": [
    "count = 0\n",
    "indices = []\n",
    "for i, row in y.iterrows():\n",
    "    for filepaths in row['file_path']:\n",
    "        if (\"onnxruntime\" in filepaths):\n",
    "            # print(row['error_tuples'], row['error'])\n",
    "            indices.append(i)\n",
    "            count += 1\n",
    "            continue\n",
    "print(count)"
   ]
  },
  {
   "cell_type": "code",
   "execution_count": null,
   "metadata": {},
   "outputs": [],
   "source": [
    "y.loc[indices]"
   ]
  },
  {
   "attachments": {},
   "cell_type": "markdown",
   "metadata": {},
   "source": [
    "# PT"
   ]
  },
  {
   "cell_type": "code",
   "execution_count": null,
   "metadata": {},
   "outputs": [],
   "source": [
    "pt_results = pd.read_json(\"./pytorch_conv_results.json\")\n",
    "pt_results.shape"
   ]
  },
  {
   "attachments": {},
   "cell_type": "markdown",
   "metadata": {},
   "source": [
    "## PT Incorrect Output"
   ]
  },
  {
   "cell_type": "code",
   "execution_count": null,
   "metadata": {},
   "outputs": [],
   "source": [
    "pt_results.loc[pt_results['max_abs_diff'] >= 1e-3].shape"
   ]
  },
  {
   "attachments": {},
   "cell_type": "markdown",
   "metadata": {},
   "source": [
    "## PT Conv Errs"
   ]
  },
  {
   "cell_type": "code",
   "execution_count": null,
   "metadata": {},
   "outputs": [],
   "source": [
    "conv_err_count = 0\n",
    "for i, row in pt_results.iterrows():\n",
    "    for filepaths in row['file_path']:\n",
    "        if (\"/torch/\" in filepaths):\n",
    "            conv_err_count += 1\n",
    "            continue\n",
    "conv_err_count"
   ]
  },
  {
   "attachments": {},
   "cell_type": "markdown",
   "metadata": {},
   "source": [
    "## PT ONNX Runtime"
   ]
  },
  {
   "cell_type": "code",
   "execution_count": null,
   "metadata": {},
   "outputs": [],
   "source": [
    "count = 0\n",
    "indices = []\n",
    "for i, row in pt_results.iterrows():\n",
    "    for filepaths in row['file_path']:\n",
    "        if (\"onnxruntime\" in filepaths):\n",
    "            # print(row['error_tuples'], row['error'])\n",
    "            indices.append(i)\n",
    "            count += 1\n",
    "            continue\n",
    "print(count)\n",
    "print(len(indices))"
   ]
  },
  {
   "attachments": {},
   "cell_type": "markdown",
   "metadata": {},
   "source": [
    "## PT Unsuccessful Conversion (HF)"
   ]
  },
  {
   "cell_type": "code",
   "execution_count": null,
   "metadata": {},
   "outputs": [],
   "source": [
    "pt_results.loc[pt_results['error'] == 1].shape[0] - conv_err_count"
   ]
  },
  {
   "attachments": {},
   "cell_type": "markdown",
   "metadata": {},
   "source": [
    "## PT Success"
   ]
  },
  {
   "cell_type": "code",
   "execution_count": null,
   "metadata": {},
   "outputs": [],
   "source": [
    "maybe_success = pt_results.loc[(pt_results['error'] == 0) & (pt_results['max_abs_diff'] < 1e-3)]\n",
    "maybe_success.drop(indices).shape"
   ]
  },
  {
   "cell_type": "code",
   "execution_count": null,
   "metadata": {},
   "outputs": [],
   "source": []
  }
 ],
 "metadata": {
  "kernelspec": {
   "display_name": "base",
   "language": "python",
   "name": "python3"
  },
  "language_info": {
   "codemirror_mode": {
    "name": "ipython",
    "version": 3
   },
   "file_extension": ".py",
   "mimetype": "text/x-python",
   "name": "python",
   "nbconvert_exporter": "python",
   "pygments_lexer": "ipython3",
   "version": "3.9.16"
  },
  "orig_nbformat": 4
 },
 "nbformat": 4,
 "nbformat_minor": 2
}
