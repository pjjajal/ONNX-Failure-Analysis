{
 "cells": [
  {
   "cell_type": "code",
   "execution_count": null,
   "metadata": {},
   "outputs": [],
   "source": [
    "import onnxruntime as ort\n",
    "import pickle\n",
    "import warnings\n",
    "from pathlib import Path\n",
    "import torch\n",
    "from nnsmith.materialize import Model, Oracle\n",
    "import numpy as np\n",
    "from torch.onnx.verification import find_mismatch"
   ]
  },
  {
   "cell_type": "code",
   "execution_count": null,
   "metadata": {},
   "outputs": [],
   "source": [
    "model_path = Path(\"nnsmith_constrained/symbolic-cinit/torch/20/model_81_1574862576\")\n",
    "\n",
    "# Get the paths for pickles and weights\n",
    "gir_path: Path = model_path / \"gir.pkl\"\n",
    "oracle_path: Path = model_path / \"oracle.pkl\"\n",
    "weights_path: Path = model_path / \"model.pth\"\n",
    "\n",
    "# Load the model from pickle\n",
    "with gir_path.open(\"rb\") as f:\n",
    "    gir = pickle.load(f)\n",
    "model_type = Model.init(\"torch\", \"cpu\")\n",
    "model = model_type.from_gir(gir)\n",
    "\n",
    "model.torch_model.load_state_dict(torch.load(weights_path), strict=False)\n",
    "\n",
    "# Load oracle\n",
    "oracle = Oracle.load(oracle_path)\n",
    "\n",
    "model_args = tuple([torch.from_numpy(val) for key, val in oracle.input.items()])"
   ]
  },
  {
   "cell_type": "code",
   "execution_count": null,
   "metadata": {},
   "outputs": [],
   "source": [
    "find_mismatch(model.native_model, model_args, opset_version=16, keep_initializers_as_inputs=True).export_repro(\"outpt\")"
   ]
  },
  {
   "cell_type": "code",
   "execution_count": null,
   "metadata": {},
   "outputs": [],
   "source": [
    "torch.onnx.export(model.native_model, model_args, \"./model1.onnx\", opset_version=16, keep_initializers_as_inputs=False)"
   ]
  },
  {
   "cell_type": "code",
   "execution_count": null,
   "metadata": {},
   "outputs": [],
   "source": [
    "sess = ort.InferenceSession(\"./model1.onnx\", providers=['CPUExecutionProvider'])"
   ]
  },
  {
   "cell_type": "code",
   "execution_count": null,
   "metadata": {},
   "outputs": [],
   "source": [
    "inp = {inp.name: np.random.randn(*inp.shape).astype(np.float32) for inp in sess.get_inputs()}"
   ]
  },
  {
   "cell_type": "code",
   "execution_count": null,
   "metadata": {},
   "outputs": [],
   "source": [
    "inputs = {}\n",
    "for inp in sess.get_inputs():\n",
    "    inputs[inp.name] =  np.random.randn(*inp.shape).astype(np.float32)\n",
    "    if inp.type == \"tensor(bool)\":\n",
    "        inputs[inp.name] = np.atleast_1d(np.all(inputs[inp.name]))"
   ]
  },
  {
   "cell_type": "code",
   "execution_count": null,
   "metadata": {},
   "outputs": [],
   "source": [
    "inputs"
   ]
  },
  {
   "cell_type": "code",
   "execution_count": null,
   "metadata": {},
   "outputs": [],
   "source": [
    "sess.run(output_names=list(model.output_like),input_feed=inputs)"
   ]
  },
  {
   "cell_type": "code",
   "execution_count": null,
   "metadata": {},
   "outputs": [],
   "source": []
  }
 ],
 "metadata": {
  "kernelspec": {
   "display_name": "base",
   "language": "python",
   "name": "python3"
  },
  "language_info": {
   "codemirror_mode": {
    "name": "ipython",
    "version": 3
   },
   "file_extension": ".py",
   "mimetype": "text/x-python",
   "name": "python",
   "nbconvert_exporter": "python",
   "pygments_lexer": "ipython3",
   "version": "3.10.13"
  },
  "orig_nbformat": 4
 },
 "nbformat": 4,
 "nbformat_minor": 2
}
