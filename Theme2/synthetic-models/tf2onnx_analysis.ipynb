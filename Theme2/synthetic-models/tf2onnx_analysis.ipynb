{
 "cells": [
  {
   "cell_type": "code",
   "execution_count": null,
   "metadata": {},
   "outputs": [],
   "source": [
    "from pathlib import Path\n",
    "import pandas as pd\n",
    "import re\n",
    "import os \n",
    "import shutil"
   ]
  },
  {
   "cell_type": "markdown",
   "metadata": {},
   "source": [
    "# Copy Stuff"
   ]
  },
  {
   "cell_type": "code",
   "execution_count": null,
   "metadata": {},
   "outputs": [],
   "source": [
    "correct_models_path = Path(\"correct_models/tensorflow/symbolic-cinit/16\")\n",
    "correct_models_path.mkdir(parents=True)"
   ]
  },
  {
   "cell_type": "code",
   "execution_count": null,
   "metadata": {},
   "outputs": [],
   "source": [
    "mismatch_models_path = Path(\"mismatch_test_new/tensorflow/symbolic-cinit/16\")\n",
    "mismatch_models_path.mkdir(parents=True)"
   ]
  },
  {
   "cell_type": "code",
   "execution_count": null,
   "metadata": {},
   "outputs": [],
   "source": [
    "# Copy Correct models\n",
    "for idx, row in all_data.loc[(all_data['result'] == 0) & ~(all_data['mad'] > 1e-7)].iterrows():\n",
    "    onnx_model_path = Path(row['onnx_model_path'])\n",
    "    dest_path = correct_models_path / (str(Path(row['path']).parent.name) + \"_repro\")\n",
    "    dest_path.mkdir(parents=True)\n",
    "    dest_path = dest_path / \"model.onnx\"\n",
    "    shutil.copy(onnx_model_path, dest_path)"
   ]
  },
  {
   "cell_type": "code",
   "execution_count": null,
   "metadata": {},
   "outputs": [],
   "source": [
    "# Copy Incorrect models\n",
    "for idx, row in all_data.loc[(all_data['result'] == 0) & (all_data['mad'] > 1e-7)].iterrows():\n",
    "    tfnet_dest_path = Path(row['path']) / \"tfnet\"\n",
    "    onnx_model_path = Path(row['onnx_model_path'])\n",
    "    dest_path = mismatch_models_path / (str(Path(row['path']).parent.name) + \"_repro\")\n",
    "    dest_path.mkdir(parents=True, exist_ok=True)\n",
    "    dest_path_onnx = dest_path / \"model.onnx\"\n",
    "    dest_path_tfnet = dest_path / \"tfnet\"\n",
    "    shutil.copy(onnx_model_path, dest_path_onnx)\n",
    "    shutil.copytree(tfnet_dest_path, dest_path_tfnet, dirs_exist_ok=True)\n"
   ]
  },
  {
   "cell_type": "markdown",
   "metadata": {},
   "source": [
    "# Analysis"
   ]
  },
  {
   "cell_type": "code",
   "execution_count": null,
   "metadata": {},
   "outputs": [],
   "source": [
    "results_path = Path(\"./exporter_test_results/tensorflow\")\n"
   ]
  },
  {
   "cell_type": "code",
   "execution_count": null,
   "metadata": {},
   "outputs": [],
   "source": [
    "dataframes = []\n",
    "for path in sorted(results_path.glob(f\"tensorflow_symbolic-cinit_opset_16_*.json\")):\n",
    "    dataframes.append(pd.read_json(path))"
   ]
  },
  {
   "cell_type": "code",
   "execution_count": null,
   "metadata": {},
   "outputs": [],
   "source": [
    "all_data = pd.concat(dataframes).fillna(0)"
   ]
  },
  {
   "cell_type": "code",
   "execution_count": null,
   "metadata": {},
   "outputs": [],
   "source": [
    "all_data.loc[all_data['mad'] > 1e-7].sort_values('mad', ascending=False).head(30)"
   ]
  },
  {
   "cell_type": "code",
   "execution_count": null,
   "metadata": {},
   "outputs": [],
   "source": [
    "mismatch_models_path = Path(\"bugs/tensorflow/bug_1\")\n",
    "# Copy Incorrect models\n",
    "for idx, row in all_data.loc[all_data['mad'] > 1e-7].sort_values('mad', ascending=False).head(30).iterrows():\n",
    "    tfnet_dest_path = Path(row['path']) / \"tfnet\"\n",
    "    onnx_model_path = Path(row['onnx_model_path'])\n",
    "    dest_path = mismatch_models_path / (str(Path(row['path']).parent.name) + \"_repro\")\n",
    "    dest_path.mkdir(parents=True, exist_ok=True)\n",
    "    dest_path_onnx = dest_path / \"model.onnx\"\n",
    "    dest_path_tfnet = dest_path / \"tfnet\"\n",
    "    shutil.copy(onnx_model_path, dest_path_onnx)\n",
    "    shutil.copytree(tfnet_dest_path, dest_path_tfnet, dirs_exist_ok=True)\n"
   ]
  },
  {
   "cell_type": "code",
   "execution_count": null,
   "metadata": {},
   "outputs": [],
   "source": [
    "all_data[['result']].value_counts()"
   ]
  },
  {
   "cell_type": "code",
   "execution_count": null,
   "metadata": {},
   "outputs": [],
   "source": [
    "all_data.loc[all_data['mad'] > 1e-7]"
   ]
  },
  {
   "cell_type": "code",
   "execution_count": null,
   "metadata": {},
   "outputs": [],
   "source": [
    "num_ort = []\n",
    "num_not_ort = []\n",
    "n = 0\n",
    "for idx, row in all_data.loc[all_data['result'] == 1].iterrows():\n",
    "    if \"ONNXRuntimeError\" in row['error']:\n",
    "        num_ort.append((row['model'], row['error']))\n",
    "    else:\n",
    "        num_not_ort.append((row['model'], row['error']))\n",
    "        print(row)\n",
    "    n += 1"
   ]
  },
  {
   "cell_type": "code",
   "execution_count": null,
   "metadata": {},
   "outputs": [],
   "source": [
    "len(num_ort)"
   ]
  },
  {
   "cell_type": "code",
   "execution_count": null,
   "metadata": {},
   "outputs": [],
   "source": [
    "x = list(set(list(map(lambda x: x[1], num_ort))))"
   ]
  },
  {
   "cell_type": "code",
   "execution_count": null,
   "metadata": {},
   "outputs": [],
   "source": [
    "x"
   ]
  },
  {
   "cell_type": "code",
   "execution_count": null,
   "metadata": {},
   "outputs": [],
   "source": [
    "fail = []\n",
    "not_imp = []\n",
    "invalid_arg = []\n",
    "invalid_graph = []\n",
    "runtime_exp = []\n",
    "other = []\n",
    "for i in x:\n",
    "    if \"NOT_IMPLEMENTED\" in i:\n",
    "        not_imp.append(i)\n",
    "    elif \"FAIL\" in i:\n",
    "        fail.append(i)\n",
    "    elif \"INVALID_ARGUMENT\" in i:\n",
    "        invalid_arg.append(i)\n",
    "    elif \"RUNTIME_EXCEPTION\" in i:\n",
    "        runtime_exp.append(i)\n",
    "    elif \"INVALID_GRAPH\" in i:\n",
    "        invalid_graph.append(i)\n",
    "    else:\n",
    "        other.append(i)\n"
   ]
  },
  {
   "cell_type": "code",
   "execution_count": null,
   "metadata": {},
   "outputs": [],
   "source": [
    "print(f\"{len(x)}, not_imp {len(not_imp)}, fail {len(fail)}, invalid arg {len(invalid_arg)}, invalid graph {len(invalid_graph)}, runtime_exp {len(runtime_exp)}\" )"
   ]
  },
  {
   "cell_type": "code",
   "execution_count": null,
   "metadata": {},
   "outputs": [],
   "source": [
    "fail"
   ]
  },
  {
   "cell_type": "code",
   "execution_count": null,
   "metadata": {},
   "outputs": [],
   "source": [
    "runtime_exp"
   ]
  },
  {
   "cell_type": "code",
   "execution_count": null,
   "metadata": {},
   "outputs": [],
   "source": [
    "len(num_not_ort)"
   ]
  },
  {
   "cell_type": "code",
   "execution_count": null,
   "metadata": {},
   "outputs": [],
   "source": [
    "n"
   ]
  },
  {
   "cell_type": "code",
   "execution_count": null,
   "metadata": {},
   "outputs": [],
   "source": [
    "x = list(set(list(map(lambda x: x[1], num_not_ort))))\n",
    "x"
   ]
  },
  {
   "cell_type": "code",
   "execution_count": null,
   "metadata": {},
   "outputs": [],
   "source": [
    "for i in all_data.loc[all_data['error'] == x[-1]]['path']:\n",
    "    print(i)"
   ]
  },
  {
   "cell_type": "code",
   "execution_count": null,
   "metadata": {},
   "outputs": [],
   "source": []
  }
 ],
 "metadata": {
  "kernelspec": {
   "display_name": "base",
   "language": "python",
   "name": "python3"
  },
  "language_info": {
   "codemirror_mode": {
    "name": "ipython",
    "version": 3
   },
   "file_extension": ".py",
   "mimetype": "text/x-python",
   "name": "python",
   "nbconvert_exporter": "python",
   "pygments_lexer": "ipython3",
   "version": "3.10.13"
  },
  "orig_nbformat": 4
 },
 "nbformat": 4,
 "nbformat_minor": 2
}
